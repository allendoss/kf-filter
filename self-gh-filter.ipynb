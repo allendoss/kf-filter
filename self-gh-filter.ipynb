{
 "cells": [
  {
   "cell_type": "markdown",
   "metadata": {},
   "source": [
    "Choose number between two readings or take an average because most likely the true value exists between the two rather than below or above extremum values"
   ]
  },
  {
   "cell_type": "code",
   "execution_count": 18,
   "metadata": {
    "collapsed": true
   },
   "outputs": [],
   "source": [
    "import kf_book.book_plots as book_plots\n",
    "from kf_book.book_plots import plot_errorbars\n",
    "import kf_book.gh_internal as gh\n",
    "from kf_book.book_plots import figsize\n",
    "import matplotlib.pyplot as plt\n",
    "from kf_book.gh_internal import plot_g_h_results\n",
    "import matplotlib.pylab as pylab\n",
    "import numpy as np\n",
    "from numpy.random import randn\n",
    "\n",
    "%matplotlib inline"
   ]
  },
  {
   "cell_type": "code",
   "execution_count": 2,
   "metadata": {
    "collapsed": true
   },
   "outputs": [],
   "source": [
    "plot_errorbars??"
   ]
  },
  {
   "cell_type": "code",
   "execution_count": 3,
   "metadata": {},
   "outputs": [
    {
     "data": {
      "image/png": "[encoded data removed]",
      "text/plain": [
       "<matplotlib.figure.Figure at 0x1c69b3fd978>"
      ]
     },
     "metadata": {},
     "output_type": "display_data"
    }
   ],
   "source": [
    "plot_errorbars([(160,3,'A'),(170,9,'B')], xlims=(150,180))"
   ]
  },
  {
   "cell_type": "markdown",
   "metadata": {},
   "source": [
    "B appears less accurate. Instead we can opt only for A. But throwing information is bad => the intersection of B with A (part of A) could be an even better estimate."
   ]
  },
  {
   "cell_type": "code",
   "execution_count": 4,
   "metadata": {},
   "outputs": [],
   "source": [
    "gh.plot_hypothesis2()"
   ]
  },
  {
   "cell_type": "code",
   "execution_count": 5,
   "metadata": {},
   "outputs": [],
   "source": [
    "gh.plot_hypothesis3()"
   ]
  },
  {
   "cell_type": "markdown",
   "metadata": {},
   "source": [
    "Pay attention to the trend in the graphs. The second one most likely seems to show that the weight of the person increased. We can see that there is no horizontal line that we could draw that is inside all of the error bars."
   ]
  },
  {
   "cell_type": "markdown",
   "metadata": {},
   "source": [
    "If the prediction was always exactly the same as the measurement, it would not be capable of adding any information to the filter"
   ]
  },
  {
   "cell_type": "code",
   "execution_count": 6,
   "metadata": {},
   "outputs": [],
   "source": [
    "gh.plot_estimate_chart_2()"
   ]
  },
  {
   "cell_type": "markdown",
   "metadata": {},
   "source": [
    "How do we combine the two values-prediction model and measurement model? Take average just like before?"
   ]
  },
  {
   "cell_type": "markdown",
   "metadata": {},
   "source": [
    "But we also know that the actual value is more likely to lie between the prediction model and sensor model's value. Should the estimate be half way between them?"
   ]
  },
  {
   "cell_type": "markdown",
   "metadata": {},
   "source": [
    "Just as before since A had less error => if our prediction model has lower error then we scale the estiamte to be closer to prediction model's result"
   ]
  },
  {
   "cell_type": "markdown",
   "metadata": {},
   "source": [
    "$estimate = prediction + k * (measurement - prediction)$"
   ]
  },
  {
   "cell_type": "markdown",
   "metadata": {},
   "source": [
    "$k * (measurement - prediction)$ is the common region in the first bar plot between A and B"
   ]
  },
  {
   "cell_type": "code",
   "execution_count": 7,
   "metadata": {},
   "outputs": [
    {
     "name": "stdout",
     "output_type": "stream",
     "text": [
      "prediction: 161.0 estimate: 159.8\n",
      "prediction: 160.8 estimate: 162.16\n",
      "prediction: 163.16 estimate: 162.016\n",
      "prediction: 163.016 estimate: 161.7696\n",
      "prediction: 162.7696 estimate: 162.50176\n",
      "prediction: 163.50176 estimate: 163.941056\n",
      "prediction: 164.941056 estimate: 166.8046336\n",
      "prediction: 167.8046336 estimate: 167.64278016\n",
      "prediction: 168.64278016 estimate: 167.745668096\n",
      "prediction: 168.745668096 estimate: 169.6474008576\n",
      "prediction: 170.6474008576 estimate: 170.86844051455998\n",
      "prediction: 171.86844051455998 estimate: 172.16106430873597\n"
     ]
    }
   ],
   "source": [
    "measurement_weights = [158.0, 164.2, 160.3, 159.9, 162.1, 164.6, \n",
    "           169.6, 167.4, 166.4, 171.0, 171.2, 172.6]\n",
    "time_step = 1\n",
    "scale_factor = 0.4\n",
    "initial_guess = 160.\n",
    "\n",
    "def predict_using_gain_guess(weight, gain_rate):\n",
    "    estimate = weight\n",
    "    for measurement in measurement_weights:\n",
    "        prediction = estimate + gain_rate * time_step\n",
    "        # why not prediction - measurement??\n",
    "        estimate = prediction + scale_factor * (measurement-prediction)\n",
    "        print('prediction:', prediction, 'estimate:', estimate)\n",
    "    \n",
    "\n",
    "predict_using_gain_guess(initial_guess, gain_rate=1)"
   ]
  },
  {
   "cell_type": "code",
   "execution_count": 8,
   "metadata": {},
   "outputs": [
    {
     "name": "stdout",
     "output_type": "stream",
     "text": [
      "previous: 160.00, prediction: 161.00 estimate 159.80\n",
      "previous: 159.80, prediction: 160.80 estimate 162.16\n",
      "previous: 162.16, prediction: 163.16 estimate 162.02\n",
      "previous: 162.02, prediction: 163.02 estimate 161.77\n",
      "previous: 161.77, prediction: 162.77 estimate 162.50\n",
      "previous: 162.50, prediction: 163.50 estimate 163.94\n",
      "previous: 163.94, prediction: 164.94 estimate 166.80\n",
      "previous: 166.80, prediction: 167.80 estimate 167.64\n",
      "previous: 167.64, prediction: 168.64 estimate 167.75\n",
      "previous: 167.75, prediction: 168.75 estimate 169.65\n",
      "previous: 169.65, prediction: 170.65 estimate 170.87\n",
      "previous: 170.87, prediction: 171.87 estimate 172.16\n"
     ]
    }
   ],
   "source": [
    "weights = [158.0, 164.2, 160.3, 159.9, 162.1, 164.6, \n",
    "           169.6, 167.4, 166.4, 171.0, 171.2, 172.6]\n",
    "\n",
    "time_step = 1.0  # day\n",
    "scale_factor = 4.0/10\n",
    "\n",
    "def predict_using_gain_guess(weight, gain_rate, do_print=False):     \n",
    "    # store the filtered results\n",
    "    estimates, predictions = [weight], []\n",
    "\n",
    "    # most filter literature uses 'z' for measurements\n",
    "    for z in weights: \n",
    "        # predict new position\n",
    "        prediction = weight + gain_rate * time_step\n",
    "\n",
    "        # update filter \n",
    "        weight = prediction + scale_factor * (z - prediction)\n",
    "\n",
    "        # save\n",
    "        estimates.append(weight)\n",
    "        predictions.append(prediction)\n",
    "        if do_print:\n",
    "            gh.print_results(estimates, prediction, weight)\n",
    "\n",
    "    return estimates, predictions\n",
    "\n",
    "initial_guess = 160.\n",
    "\n",
    "estimates, predictions = predict_using_gain_guess(\n",
    "    weight=initial_guess, gain_rate=1, do_print=True)"
   ]
  },
  {
   "cell_type": "code",
   "execution_count": 9,
   "metadata": {},
   "outputs": [],
   "source": [
    "gh.plot_gh_results(weights, estimates, predictions) #measurement, estiamte, prediction"
   ]
  },
  {
   "cell_type": "markdown",
   "metadata": {},
   "source": [
    "Note: prediction uses previous estimate as an initial point and predicts on top of that!!\n",
    "The red line shows the prediction that is made from the previous day's weight. Estimate value is 40% closer to prediction"
   ]
  },
  {
   "cell_type": "markdown",
   "metadata": {},
   "source": [
    "Until now we were concerned with the trend line following a similar pattern to the prediction. But rate of this trend line adjusting to the prediction line is also important. The estimates are climbing even though we tell it we are losing 1 lb a day. It just can't adjust fast enough."
   ]
  },
  {
   "cell_type": "markdown",
   "metadata": {},
   "source": [
    "Trick is to make the initial guess an estimate itself. Instead of $160+1$, $161+0.4*(158-161)$"
   ]
  },
  {
   "cell_type": "markdown",
   "metadata": {},
   "source": [
    "Previously the weight gain was constant k. Instead we chage this to $new gain = old gain + k2*(measurement - predicted weight) / day$"
   ]
  },
  {
   "cell_type": "markdown",
   "metadata": {},
   "source": [
    "We are adjusting the rate dynamically or we are updating the rate as well as the estimate while traversing. You now end up with two initial guess, one for weight and other for gain/loss of weight per day"
   ]
  },
  {
   "cell_type": "markdown",
   "metadata": {},
   "source": [
    "In the prediction step you need to predict the next value for all variables, both weight and gain_rate"
   ]
  },
  {
   "cell_type": "code",
   "execution_count": 10,
   "metadata": {},
   "outputs": [],
   "source": [
    "weight = 160.  # initial guess\n",
    "gain_rate = -1.0  # initial guess\n",
    "\n",
    "time_step = 1.\n",
    "weight_scale = 4./10\n",
    "gain_scale = 1./3\n",
    "estimates = [weight]\n",
    "predictions = []\n",
    "\n",
    "for z in weights:\n",
    "    # prediction step\n",
    "    weight = weight + gain_rate*time_step\n",
    "    gain_rate = gain_rate\n",
    "    predictions.append(weight)\n",
    "    \n",
    "    # update step    \n",
    "    residual = z - weight\n",
    "    \n",
    "    \n",
    "    weight    = weight    + weight_scale * residual\n",
    "  \n",
    "    estimates.append(weight)\n",
    "    gain_rate = gain_rate + gain_scale   * (residual/time_step)\n",
    "gh.plot_gh_results(weights, estimates, predictions)\n",
    "\n"
   ]
  },
  {
   "cell_type": "markdown",
   "metadata": {},
   "source": [
    "$g$ is the scaling we used for the measurement (weight in our example), and $h$ is the scaling for the change in measurement over time (lbs/day in our example"
   ]
  },
  {
   "cell_type": "markdown",
   "metadata": {},
   "source": [
    "the state should be understood as the actual value of the system. This value is usually hidden to us. If I stepped on a scale you'd then have a measurement. We call this observable since you can directly observe this measurement. In contrast, you can never directly observe my weight, you can only measure it. Any estimation problem consists of forming an estimate of a hidden state via observable measurements"
   ]
  },
  {
   "cell_type": "markdown",
   "metadata": {},
   "source": [
    "The update step is known as the measurement update. One iteration of the system propagation and measurement update is known as an epoch."
   ]
  },
  {
   "cell_type": "markdown",
   "metadata": {},
   "source": [
    "Weighting can change between measurement and the prediction."
   ]
  },
  {
   "cell_type": "markdown",
   "metadata": {},
   "source": [
    "Initialization\n",
    "\n",
    "1. Initialize the state of the filter\n",
    "2. Initialize our belief in the state\n",
    "\n",
    "Predict\n",
    "\n",
    "1. Use system behavior to predict state at the next time step\n",
    "2. Adjust belief to account for the uncertainty in prediction\n",
    "\n",
    "Update\n",
    "\n",
    "1. Get a measurement and associated belief about its accuracy\n",
    "2. Compute residual between estimated state and measurement\n",
    "3. New estimate is somewhere on the residual line\n",
    "\n"
   ]
  },
  {
   "cell_type": "markdown",
   "metadata": {},
   "source": [
    "$\\dot x_{0}$ = initial condition for rate of change of $x$"
   ]
  },
  {
   "cell_type": "code",
   "execution_count": 11,
   "metadata": {},
   "outputs": [],
   "source": [
    "# def g_h_filter(data, x0, dx, g, h, dt):\n",
    "#     # 1. Initial estimate is our initial condition\n",
    "#     x_estimate = x0\n",
    "#     # 2. Iterate over the measurements\n",
    "#     for z in data:\n",
    "#         # 3. Prediction model that starts from previous estimate\n",
    "#         x_prediction = x_estimate + dx*dt\n",
    "#         # 4. Estimated value\n",
    "#         residual = z - z_prediction\n",
    "#         x_estimate = x_prediction + residual*g\n",
    "#         # 5. adjust x_dot\n",
    "#         dx = dx + h* residual / dt\n",
    "# book_plots.plot_track([0, 11], [160, 172], label='Actual weight')\n",
    "# data = g_h_filter(data=weights, x0=160., dx=1., g=6./10, h=2./3, dt=1.)\n",
    "# plot_g_h_results(weights, data)"
   ]
  },
  {
   "cell_type": "code",
   "execution_count": 16,
   "metadata": {},
   "outputs": [
    {
     "data": {
      "image/png": "[encoded data removed]",
      "text/plain": [
       "<matplotlib.figure.Figure at 0x1c69e707390>"
      ]
     },
     "metadata": {},
     "output_type": "display_data"
    }
   ],
   "source": [
    "from kf_book.gh_internal import plot_g_h_results\n",
    "import matplotlib.pylab as pylab\n",
    "\n",
    "def g_h_filter(data, x0, dx, g, h, dt=1.):\n",
    "    x_est = x0\n",
    "    results = []\n",
    "    for z in data:\n",
    "        # prediction step\n",
    "        x_pred = x_est + (dx*dt)\n",
    "        dx = dx\n",
    "\n",
    "        # update step\n",
    "        residual = z - x_pred\n",
    "        dx = dx + h * (residual) / dt\n",
    "        x_est = x_pred + g * residual\n",
    "        results.append(x_est)\n",
    "    return np.array(results)\n",
    "\n",
    "book_plots.plot_track([0, 11], [160, 172], label='Actual weight')\n",
    "data = g_h_filter(data=weights, x0=160., dx=1., g=6./10, h=2./3, dt=1.)\n",
    "plot_g_h_results(weights, data)"
   ]
  },
  {
   "cell_type": "markdown",
   "metadata": {},
   "source": [
    "'Ringing' means that the signal overshoots and undershoots the data in a sinusoidal type pattern"
   ]
  },
  {
   "cell_type": "code",
   "execution_count": 19,
   "metadata": {},
   "outputs": [
    {
     "data": {
      "image/png": "[encoded data removed]",
      "text/plain": [
       "<matplotlib.figure.Figure at 0x1c69e79eb38>"
      ]
     },
     "metadata": {},
     "output_type": "display_data"
    }
   ],
   "source": [
    "def gen_data(x0, dx, count, noise_factor, accel=0.):\n",
    "    zs = []\n",
    "    for i in range(count):\n",
    "        zs.append(x0 + dx*i + randn()*noise_factor)\n",
    "        dx += accel\n",
    "    return zs\n",
    "   \n",
    "predictions = []\n",
    "zs = gen_data(x0=10., dx=0., count=20, noise_factor=0, accel=2.)\n",
    "data = g_h_filter(data=zs, x0=10., dx=0., g=0.2, h=0.02)\n",
    "plt.xlim([0, 20])\n",
    "plot_g_h_results(measurements=zs, filtered_data=data)"
   ]
  },
  {
   "cell_type": "markdown",
   "metadata": {},
   "source": [
    "In the above the measurement value is continuously increasing/ accelerating. The estimated result lags. $\\ddot x$ is not taken into account. We assume $\\ddot x = 0$"
   ]
  },
  {
   "cell_type": "markdown",
   "metadata": {},
   "source": [
    "as $g$ is larger we more closely follow the measurement instead of the prediction"
   ]
  },
  {
   "cell_type": "markdown",
   "metadata": {},
   "source": [
    "If our signal is changing a lot (quickly relative to the time step of our filter), then a large h will cause us to react to those transient changes rapidly. A smaller h will cause us to react more slowly"
   ]
  },
  {
   "cell_type": "code",
   "execution_count": 20,
   "metadata": {},
   "outputs": [
    {
     "data": {
      "image/png": "[encoded data removed]",
      "text/plain": [
       "<matplotlib.figure.Figure at 0x1c69e7159e8>"
      ]
     },
     "metadata": {},
     "output_type": "display_data"
    }
   ],
   "source": [
    "zs = np.linspace(0, 1, 50)\n",
    "\n",
    "data1 = g_h_filter(data=zs, x0=0, dx=0., dt=1., g=.2, h=0.05)\n",
    "data2 = g_h_filter(data=zs, x0=0, dx=2., dt=1., g=.2, h=0.05)\n",
    "data3 = g_h_filter(data=zs, x0=0, dx=2., dt=1., g=.2, h=0.5)\n",
    "\n",
    "book_plots.plot_measurements(zs)\n",
    "book_plots.plot_filter(data1, label='dx=0, h=0.05', c='C0')\n",
    "book_plots.plot_filter(data2, label='dx=2, h=0.05', marker='v', c='C1')\n",
    "book_plots.plot_filter(data3, label='dx=2, h=0.5',  marker='s', c='C2')\n",
    "plt.legend(loc=1);"
   ]
  },
  {
   "cell_type": "code",
   "execution_count": 24,
   "metadata": {},
   "outputs": [
    {
     "data": {
      "application/vnd.jupyter.widget-view+json": {
       "model_id": "15dd488ea7d24adfa40837fd449d9da4"
      }
     },
     "metadata": {},
     "output_type": "display_data"
    }
   ],
   "source": [
    "from ipywidgets import interact\n",
    "%matplotlib notebook\n",
    "# my FloatSlider returns an ipywidgets.FloatSlider with\n",
    "# continuous_update=False. Filtering code runs too slowly\n",
    "# to instantly react to slider changes.\n",
    "from kf_book.book_plots import FloatSlider\n",
    "\n",
    "zs1 = gen_data(x0=5, dx=5., count=100, noise_factor=50)\n",
    "\n",
    "fig = None\n",
    "def interactive_gh(x, dx, g, h):\n",
    "    global fig\n",
    "    if fig is not None: plt.close(fig)\n",
    "    fig = plt.figure()\n",
    "    data = g_h_filter(data=zs1, x0=x, dx=dx, g=g, h=h)\n",
    "    plt.scatter(range(len(zs1)), zs1, edgecolor='k', \n",
    "                facecolors='none', marker='o', lw=1)\n",
    "    plt.plot(data, color='b')\n",
    "\n",
    "interact(interactive_gh,           \n",
    "         x=FloatSlider(value=0, min=-200, max=200), \n",
    "         dx=FloatSlider(value=5, min=-50, max=50), \n",
    "         g=FloatSlider(value=.1, min=.01, max=2, step=.02), \n",
    "         h=FloatSlider(value=.02, min=.0, max=.5, step=.01));"
   ]
  },
  {
   "cell_type": "markdown",
   "metadata": {},
   "source": [
    "A low and high hreshold exists for both $g$ and $h$"
   ]
  },
  {
   "cell_type": "code",
   "execution_count": null,
   "metadata": {
    "collapsed": true
   },
   "outputs": [],
   "source": []
  }
 ],
 "metadata": {
  "kernelspec": {
   "display_name": "Python 3",
   "language": "python",
   "name": "python3"
  },
  "language_info": {
   "codemirror_mode": {
    "name": "ipython",
    "version": 3
   },
   "file_extension": ".py",
   "mimetype": "text/x-python",
   "name": "python",
   "nbconvert_exporter": "python",
   "pygments_lexer": "ipython3",
   "version": "3.5.3"
  }
 },
 "nbformat": 4,
 "nbformat_minor": 2
}
